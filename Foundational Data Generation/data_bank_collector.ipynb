{
 "cells": [
  {
   "attachments": {},
   "cell_type": "markdown",
   "metadata": {},
   "source": [
    "The purpose of this notebook is to fetch the historical data of S&P 500 stocks from reliable sources (yahoo finance website)"
   ]
  },
  {
   "cell_type": "code",
   "execution_count": 4,
   "metadata": {},
   "outputs": [],
   "source": [
    "# import necessary libraries\n",
    "import numpy as np\n",
    "import bs4 as bs\n",
    "import requests\n",
    "import json\n",
    "\n",
    "\n",
    "from selenium import webdriver\n",
    "from selenium.webdriver.common.by import By\n",
    "import time\n",
    "import pandas as pd\n",
    "import os\n",
    "import matplotlib.pyplot as plt\n",
    "\n",
    "# ignore warnings\n",
    "import warnings\n",
    "warnings.filterwarnings('ignore')"
   ]
  },
  {
   "cell_type": "code",
   "execution_count": 5,
   "metadata": {},
   "outputs": [],
   "source": [
    "# helper functions\n",
    "import shutil\n",
    "\n",
    "def move_file(src, dest):\n",
    "    shutil.move(src, dest)\n",
    "\n",
    "\n",
    "# src = r'C:\\Users\\Kenny\\Downloads\\TSLA.csv'\n",
    "# dest = r'C:\\Users\\Kenny\\OneDrive - HKUST Connect\\Documents\\Projects\\QuantOptimus\\QuantOptimus\\Foundational Data Generation\\historical_data_bank\\TSLA.csv'\n",
    "# move_file(src, dest)\n"
   ]
  },
  {
   "cell_type": "code",
   "execution_count": 6,
   "metadata": {},
   "outputs": [
    {
     "name": "stdout",
     "output_type": "stream",
     "text": [
      "Error when moving stocks:  ADP\n",
      "Error when moving stocks:  AKAM\n",
      "Error when moving stocks:  ARE\n",
      "Error when moving stocks:  ALLE\n",
      "Error when moving stocks:  ALL\n",
      "Error when moving stocks:  GOOGL\n",
      "Error when moving stocks:  MO\n",
      "Error when moving stocks:  AEE\n",
      "Error when moving stocks:  ANET\n",
      "Error when moving stocks:  WRB\n",
      "Error when moving stocks:  BRK.B\n",
      "Error when moving stocks:  BMY\n",
      "Error when moving stocks:  BF.B\n",
      "Error when moving stocks:  CNC\n",
      "Error when moving stocks:  CME\n",
      "Error when moving stocks:  DHR\n",
      "Error when moving stocks:  STE\n",
      "Error when moving stocks:  ARE\n",
      "Error when moving stocks:  BRK.B\n",
      "Error when moving stocks:  BF.B\n"
     ]
    }
   ],
   "source": [
    "# fetch the historical data of S&P 500 stocks\n",
    "\n",
    "\n",
    "\n",
    "stocks_universe_df = pd.read_csv('stocks_sp_500_universe.csv')\n",
    "stocks_tickers = stocks_universe_df['tickers']\n",
    "# stocks = [\"TSLA\", \"DIS\", \"AAPL\"]\n",
    "\n",
    "def get_historical_stocks_data(stocks):\n",
    "    file_directory = 'C:/Users/Kenny/OneDrive - HKUST Connect\\Documents\\Projects/QuantOptimus/QuantOptimus/Foundational Data Generation/historical_data_bank/'\n",
    "    download_directory = 'C:/Users/Kenny/Downloads/'\n",
    "    dataframes= []\n",
    "    failed_attempts = []\n",
    "    for i in range(len(stocks)):\n",
    "        try:\n",
    "            driver = webdriver.Chrome()\n",
    "            driver.get('https://finance.yahoo.com/quote/' + stocks[i] + '/history?p='+ stocks[i]) \n",
    "            driver.find_element (By.XPATH, \"//span[@class='C($linkColor) Fz(14px)']\").click() \n",
    "            driver.find_element (By.XPATH, \"//span[contains(text(), 'Max')]\").click() \n",
    "            driver.find_element (By.XPATH, \"//span[contains(text(), 'Download')]\").click()\n",
    "            time.sleep(7)\n",
    "            driver.close()\n",
    "            time.sleep(5)\n",
    "            # move the just downloaded file into historical data directory\n",
    "            src_file = download_directory + stocks[i] + '.csv'\n",
    "            dest_file = file_directory + stocks[i] + '.csv'\n",
    "            move_file(src_file, dest_file)\n",
    "\n",
    "            # directory = '/home/pi/Downloads/'+ stocks[i] + '.csv'\n",
    "            directory = file_directory + stocks[i] + '.csv'\n",
    "            dataframes.append(pd.read_csv(directory))\n",
    "            # os.remove(directory)\n",
    "        except:\n",
    "            failed_attempts.append(stocks[i])\n",
    "            print(\"Error when moving stocks: \", stocks[i])\n",
    "    return failed_attempts\n",
    "\n",
    "remaining_stocks = get_historical_stocks_data(stocks_tickers)\n",
    "\n",
    "# retrying\n",
    "trial = get_historical_stocks_data(remaining_stocks)   \n",
    "\n",
    "# for i in range(len(stocks)):\n",
    "#     plt.figure(i, figsize=(12,8))\n",
    "#     dataframes[i].plot(kind='line', x='Date', y='Close')\n",
    "# plt.show()"
   ]
  },
  {
   "attachments": {},
   "cell_type": "markdown",
   "metadata": {},
   "source": [
    "# Collate the Closing market data of the S&P 500 stocks in one csv file"
   ]
  },
  {
   "cell_type": "code",
   "execution_count": 10,
   "metadata": {},
   "outputs": [
    {
     "name": "stdout",
     "output_type": "stream",
     "text": [
      "                  AAPL       GOOGL        TSLA\n",
      "Date                                          \n",
      "1980-12-12    0.128348         NaN         NaN\n",
      "1980-12-15    0.121652         NaN         NaN\n",
      "1980-12-16    0.112723         NaN         NaN\n",
      "1980-12-17    0.115513         NaN         NaN\n",
      "1980-12-18    0.118862         NaN         NaN\n",
      "...                ...         ...         ...\n",
      "2023-07-06  191.809998  120.110001  276.540009\n",
      "2023-07-07  190.679993  119.480003  274.429993\n",
      "2023-07-10  188.610001  116.449997  269.609985\n",
      "2023-07-11  188.080002  117.139999  269.790009\n",
      "2023-07-12  189.770004  118.930000  271.989990\n",
      "\n",
      "[10734 rows x 3 columns]\n"
     ]
    }
   ],
   "source": [
    "import os\n",
    "import pandas as pd\n",
    "\n",
    "def collate_closing_data(path):\n",
    "    files = os.listdir(path)\n",
    "\n",
    "    df = pd.DataFrame()\n",
    "\n",
    "    for file in files:\n",
    "        if file.endswith('.csv'):\n",
    "            df_temp = pd.read_csv(os.path.join(path, file))\n",
    "            df_temp.set_index('Date', inplace=True)\n",
    "            df[file[:-4]] = df_temp['Close']\n",
    "\n",
    "    print(df)\n",
    "    return df\n",
    "\n",
    "# testing --- only contains 3 stocks\n",
    "path = 'test_bank/'\n",
    "df = collate_closing_data(path)\n",
    "df.to_csv('test_bank.csv',index=True)"
   ]
  },
  {
   "cell_type": "code",
   "execution_count": 11,
   "metadata": {},
   "outputs": [
    {
     "name": "stdout",
     "output_type": "stream",
     "text": [
      "                     A        AAL        AAP        AAPL        ABBV  \\\n",
      "Date                                                                   \n",
      "1999-11-18   31.473534        NaN        NaN    0.800223         NaN   \n",
      "1999-11-19   28.880545        NaN        NaN    0.825335         NaN   \n",
      "1999-11-22   31.473534        NaN        NaN    0.809152         NaN   \n",
      "1999-11-23   28.612303        NaN        NaN    0.828683         NaN   \n",
      "1999-11-24   29.372318        NaN        NaN    0.845424         NaN   \n",
      "...                ...        ...        ...         ...         ...   \n",
      "2023-07-06  118.430000  17.879999  69.959999  191.809998  137.250000   \n",
      "2023-07-07  117.000000  18.350000  69.379997  190.679993  135.500000   \n",
      "2023-07-10  118.360001  18.570000  68.800003  188.610001  134.490005   \n",
      "2023-07-11  118.480003  18.799999  70.120003  188.080002  135.570007   \n",
      "2023-07-12  120.000000  18.570000  70.750000  189.770004  134.979996   \n",
      "\n",
      "                   ABC         ABT       ACGL         ACN        ADBE  ...  \\\n",
      "Date                                                                   ...   \n",
      "1999-11-18    3.453125   17.058233   1.416667         NaN   19.031250  ...   \n",
      "1999-11-19    3.421875   16.833782   1.416667         NaN   18.906250  ...   \n",
      "1999-11-22    3.312500   17.451021   1.416667         NaN   19.015625  ...   \n",
      "1999-11-23    3.078125   17.030176   1.361111         NaN   18.687500  ...   \n",
      "1999-11-24    3.078125   17.282684   1.340278         NaN   18.765625  ...   \n",
      "...                ...         ...        ...         ...         ...  ...   \n",
      "2023-07-06  192.190002  107.199997  73.870003  307.970001  481.290009  ...   \n",
      "2023-07-07  190.860001  106.349998  74.790001  305.760010  485.269989  ...   \n",
      "2023-07-10  192.830002  107.019997  74.709999  308.450012  496.350006  ...   \n",
      "2023-07-11  193.220001  107.500000  75.919998  309.720001  504.739990  ...   \n",
      "2023-07-12  190.800003  106.849998  76.379997  313.880005  507.359985  ...   \n",
      "\n",
      "                  WYNN        XEL         XOM       XRAY         XYL  \\\n",
      "Date                                                                   \n",
      "1999-11-18         NaN  20.562500   40.531250   8.031250         NaN   \n",
      "1999-11-19         NaN  20.250000   39.843750   8.062500         NaN   \n",
      "1999-11-22         NaN  20.250000   39.773438   7.958333         NaN   \n",
      "1999-11-23         NaN  20.062500   39.000000   7.895833         NaN   \n",
      "1999-11-24         NaN  20.125000   39.562500   7.833333         NaN   \n",
      "...                ...        ...         ...        ...         ...   \n",
      "2023-07-06   99.529999  63.759998  102.919998  38.560001  109.540001   \n",
      "2023-07-07  101.320000  62.930000  103.160004  38.830002  109.570000   \n",
      "2023-07-10  107.089996  62.650002  104.690002  39.580002  111.739998   \n",
      "2023-07-11  108.260002  63.119999  105.970001  40.480000  112.660004   \n",
      "2023-07-12  108.870003  63.790001  106.489998  40.830002  111.620003   \n",
      "\n",
      "                   YUM         ZBH        ZBRA       ZION         ZTS  \n",
      "Date                                                                   \n",
      "1999-11-18    7.750719         NaN   27.611111  64.500000         NaN  \n",
      "1999-11-19    7.638390         NaN   27.833332  64.625000         NaN  \n",
      "1999-11-22    7.514827         NaN   27.416668  63.812500         NaN  \n",
      "1999-11-23    7.391265         NaN   26.458332  62.500000         NaN  \n",
      "1999-11-24    7.211538         NaN   27.027779  62.875000         NaN  \n",
      "...                ...         ...         ...        ...         ...  \n",
      "2023-07-06  133.899994  141.199997  291.140015  27.780001  168.470001  \n",
      "2023-07-07  133.449997  140.860001  295.220001  28.980000  167.139999  \n",
      "2023-07-10  134.809998  142.509995  306.160004  29.559999  170.220001  \n",
      "2023-07-11  134.169998  143.179993  309.160004  30.430000  170.139999  \n",
      "2023-07-12  135.100006  142.649994  315.929993  31.280001  171.860001  \n",
      "\n",
      "[5948 rows x 500 columns]\n"
     ]
    }
   ],
   "source": [
    "path = 'historical_data_bank/'\n",
    "df = collate_closing_data(path)\n",
    "df.to_csv('closing_hist_mkt_data.csv',index=True)"
   ]
  },
  {
   "cell_type": "code",
   "execution_count": null,
   "metadata": {},
   "outputs": [],
   "source": []
  }
 ],
 "metadata": {
  "kernelspec": {
   "display_name": "Python 3",
   "language": "python",
   "name": "python3"
  },
  "language_info": {
   "codemirror_mode": {
    "name": "ipython",
    "version": 3
   },
   "file_extension": ".py",
   "mimetype": "text/x-python",
   "name": "python",
   "nbconvert_exporter": "python",
   "pygments_lexer": "ipython3",
   "version": "3.9.6"
  },
  "orig_nbformat": 4
 },
 "nbformat": 4,
 "nbformat_minor": 2
}
